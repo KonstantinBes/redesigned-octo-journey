{
 "cells": [
  {
   "cell_type": "code",
   "execution_count": 4,
   "metadata": {},
   "outputs": [],
   "source": [
    "\"\"\"Application to Algorithms_2_2_multidimentional\"\"\"\n",
    "\"\"\"Provides an output graphs to Task 2, multidementional optimization\"\"\"\n",
    "\n",
    "import matplotlib.pyplot as plt\n",
    "import pylab\n",
    "\n",
    "\n",
    "approximated_func = {'x': [0.0, 0.01, 0.02, 0.03, 0.04, 0.05, 0.06, 0.07, 0.08, 0.09, 0.1, 0.11, 0.12, 0.13, 0.14, 0.15, 0.16, 0.17, 0.18, 0.19, 0.2, 0.21, 0.22, 0.23, 0.24, 0.25, 0.26, 0.27, 0.28, 0.29, 0.3, 0.31, 0.32, 0.33, 0.34, 0.35, 0.36, 0.37, 0.38, 0.39, 0.4, 0.41, 0.42, 0.43, 0.44, 0.45, 0.46, 0.47, 0.48, 0.49, 0.5, 0.51, 0.52, 0.53, 0.54, 0.55, 0.56, 0.57, 0.58, 0.59, 0.6, 0.61, 0.62, 0.63, 0.64, 0.65, 0.66, 0.67, 0.68, 0.69, 0.7, 0.71, 0.72, 0.73, 0.74, 0.75, 0.76, 0.77, 0.78, 0.79, 0.8, 0.81, 0.82, 0.83, 0.84, 0.85, 0.86, 0.87, 0.88, 0.89, 0.9, 0.91, 0.92, 0.93, 0.94, 0.95, 0.96, 0.97, 0.98, 0.99, 1.0], 'y': [1.2249270419389793, 1.4435170010172758, 1.2566843197809585, 1.304959660563223, 1.4231320415469821, 1.3532034327260174, 1.201142877495228, 1.188466558788826, 1.0774476467444956, 1.451876884813042, 1.409186210175755, 1.4705154417799688, 1.398474932993481, 1.3774670590192961, 1.2696241716809715, 1.3189312802895217, 1.3380686554332861, 1.3907929155933598, 1.508498587888704, 1.2800650704503842, 1.5756981416084315, 1.4926193948195918, 1.2987479920459735, 1.5066665058591606, 1.687203190995913, 1.257814359827111, 1.504179861422473, 1.233077978146115, 1.1649881791257561, 1.569258095827601, 1.6883988988188707, 1.3929995306113454, 1.2366335583365222, 1.5199740385030778, 1.617308145928885, 1.1574904002106816, 1.77039876951241, 1.4361748074355272, 1.3357514881754735, 1.6555054145207801, 1.5479014830427427, 1.6497025020148646, 1.528729315461434, 1.4881804001210797, 1.2978578488555104, 1.8209258122710512, 1.5559745980704927, 1.3658429396048304, 1.4266634392740758, 1.6356827538269934, 1.8291119245724061, 1.3354290454605107, 1.7000383698671224, 1.5382709675020658, 1.5084317674026573, 1.6069895003516919, 1.5471125848449359, 1.3422236727723575, 1.474907835315237, 1.5591741109734718, 1.6090661123899253, 1.7151832439322041, 1.624087953138916, 1.6635113471731575, 1.7257418447809971, 1.8038600249161476, 1.4082490243916888, 1.4747637637794302, 1.867787670710347, 1.7315278042954072, 1.8182544300931014, 1.8703705721468085, 1.874958470973787, 1.7043026832545218, 1.7234896853362212, 1.8717527335986825, 1.7381762732581159, 1.4432128882405704, 2.038829459562911, 2.0405181008048485, 1.7694124807984979, 1.545926902728012, 2.0125741266249753, 1.766014407299518, 1.6181273073900817, 1.840945473207869, 1.888557917951721, 1.8251551761126446, 1.594344236923283, 1.759584542364104, 1.902512362798711, 1.8385455863332192, 1.9087159083809548, 2.098094405347585, 1.8843747508445825, 1.9683764735912006, 1.8476452608348006, 1.9420927290592538, 2.1082738424785052, 2.04407147477, 1.7070094651691394]}\n",
    "\n",
    "def output_all_linear():\n",
    "    x = approximated_func['x']\n",
    "    y = approximated_func['y']\n",
    "    gauss = {'a_opimal': 0.6610000000000009, 'b_opimal': 1.254999999999973, 'minimum': 2.2714712036026015, 'counter': 68068}\n",
    "    brute = {'a_opimal': 0.6520000000000009, 'b_opimal': 1.2600000000000013, 'minimum': 2.2709150437491408, 'counter': 1000001}\n",
    "    neld_mead = [0.6532111 , 1.25906357]\n",
    "    fig, ax = plt.subplots(1, 1, figsize=(8,6))\n",
    "    ax.grid()\n",
    "    ax.set_xlabel('x')\n",
    "    ax.set_ylabel('y')\n",
    "    pylab.xlim(0, 1)\n",
    "    pylab.ylim(min(y), max(y))\n",
    "    line1, = ax.plot(x, y, linewidth=2, label='Data')\n",
    "    line2, = ax.plot(x, [(brute['a_opimal']*i+brute['b_opimal']) for i in x],\n",
    "                     linewidth=2, label='Brute force')\n",
    "    line3, = ax.plot(x, [(gauss['a_opimal']*i+gauss['b_opimal']) for i in x],\n",
    "                     dashes=[10, 5, 10, 5], linewidth=3, label='Gauss')\n",
    "    line4, = ax.plot(x, [(neld_mead[0]*i+neld_mead[1]) for i in x], dashes=[5, 5],\n",
    "                     linewidth=4, label='Nelder-Mead')\n",
    "    ax.legend(loc='lower right', borderaxespad=0.1)\n",
    "    fig.savefig('A:\\Information\\Kostya\\Master\\\\linear.png')\n",
    "    plt.close(fig)\n",
    "    \n",
    "def output_all_rational():\n",
    "    x = approximated_func['x']\n",
    "    y = approximated_func['y']\n",
    "    gauss = {'a_opimal': 1.3039999999999676, 'b_opimal': -0.33299999999999974, 'minimum': 2.231599532234495, 'counter': 55354}\n",
    "    brute = {'a_opimal': 1.29850000000001, 'b_opimal': -0.3382000000000016, 'minimum': 2.2303576954959246, 'counter': 1001001}\n",
    "    neld_mead = [ 1.29875884, -0.33813687]\n",
    "    fig, ax = plt.subplots(1, 1, figsize=(8,6))\n",
    "    ax.grid()\n",
    "    ax.set_xlabel('x')\n",
    "    ax.set_ylabel('y')\n",
    "    pylab.xlim(0, 1)\n",
    "    pylab.ylim(min(y), max(y))\n",
    "    line1, = ax.plot(x, y, linewidth=2, label='Data')\n",
    "    line2, = ax.plot(x, [brute['a_opimal']/(1+brute['b_opimal']*i) for i in x],\n",
    "                     linewidth=2, label='Brute force')\n",
    "    line3, = ax.plot(x, [gauss['a_opimal']/(1+gauss['b_opimal']*i) for i in x],\n",
    "                     dashes=[10, 5, 10, 5], linewidth=3, label='Gauss')\n",
    "    line4, = ax.plot(x, [neld_mead[0]/(1+neld_mead[1]*i) for i in x], dashes=[5, 5],\n",
    "                     linewidth=4, label='Nelder-Mead')\n",
    "    ax.legend(loc='lower right', borderaxespad=0.1)\n",
    "    fig.savefig('A:\\Information\\Kostya\\Master\\\\rational.png')\n",
    "    plt.close(fig)\n",
    "    \n",
    "\n",
    "output_all_linear()\n",
    "output_all_rational()"
   ]
  },
  {
   "cell_type": "code",
   "execution_count": null,
   "metadata": {},
   "outputs": [],
   "source": []
  }
 ],
 "metadata": {
  "kernelspec": {
   "display_name": "Python 3",
   "language": "python",
   "name": "python3"
  },
  "language_info": {
   "codemirror_mode": {
    "name": "ipython",
    "version": 3
   },
   "file_extension": ".py",
   "mimetype": "text/x-python",
   "name": "python",
   "nbconvert_exporter": "python",
   "pygments_lexer": "ipython3",
   "version": "3.7.3"
  }
 },
 "nbformat": 4,
 "nbformat_minor": 2
}
